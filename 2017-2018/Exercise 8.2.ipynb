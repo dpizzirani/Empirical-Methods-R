{
 "cells": [
  {
   "cell_type": "markdown",
   "metadata": {},
   "source": [
    "# Exercise 8.2"
   ]
  },
  {
   "cell_type": "markdown",
   "metadata": {},
   "source": [
    "In R, you can find the z-values for a standard normal distribution, the X<sup>2</sup> values for a chi-square distribution, and the _t<sub>2</sub>_ values for a _t_-distribution with _n_ degrees of freedom using the commands `qnorm`, `qchisq`, and `qt`, respectively. For example, `qt(0.975,df=4)` gives t<sub>0.025,4</sub>."
   ]
  },
  {
   "cell_type": "markdown",
   "metadata": {},
   "source": [
    "## Exercise 2.1"
   ]
  },
  {
   "cell_type": "markdown",
   "metadata": {},
   "source": [
    "Suppose that _U1, U2, . . ._ is a sequence of independent uniform (0, 1) random variables, and let $ N :=  min\\{n | \\sum_{i=1}^{n} U_i >= 1\\} $. That is, `N` is the number of random variables that need to be added to exceed 1."
   ]
  },
  {
   "cell_type": "markdown",
   "metadata": {},
   "source": [
    "1. Use random numbers to determine the value of 36 random variables distributed as _N_ (hint: remember `runif`).\n",
    "2. Use the data generated to find a 95% confidence interval for _E[N]_.\n",
    "3. Can you guess the exact value of _E[N]_?"
   ]
  },
  {
   "cell_type": "code",
   "execution_count": 4,
   "metadata": {},
   "outputs": [
    {
     "data": {
      "text/html": [
       "<ol class=list-inline>\n",
       "\t<li>2</li>\n",
       "\t<li>2</li>\n",
       "\t<li>2</li>\n",
       "\t<li>2</li>\n",
       "\t<li>2</li>\n",
       "\t<li>3</li>\n",
       "\t<li>4</li>\n",
       "\t<li>2</li>\n",
       "\t<li>5</li>\n",
       "\t<li>3</li>\n",
       "\t<li>3</li>\n",
       "\t<li>2</li>\n",
       "\t<li>3</li>\n",
       "\t<li>2</li>\n",
       "\t<li>2</li>\n",
       "\t<li>3</li>\n",
       "\t<li>4</li>\n",
       "\t<li>3</li>\n",
       "\t<li>3</li>\n",
       "\t<li>4</li>\n",
       "\t<li>3</li>\n",
       "\t<li>2</li>\n",
       "\t<li>3</li>\n",
       "\t<li>3</li>\n",
       "\t<li>3</li>\n",
       "\t<li>2</li>\n",
       "\t<li>2</li>\n",
       "\t<li>3</li>\n",
       "\t<li>4</li>\n",
       "\t<li>2</li>\n",
       "\t<li>2</li>\n",
       "\t<li>4</li>\n",
       "\t<li>2</li>\n",
       "\t<li>4</li>\n",
       "\t<li>4</li>\n",
       "\t<li>3</li>\n",
       "</ol>\n"
      ],
      "text/latex": [
       "\\begin{enumerate*}\n",
       "\\item 2\n",
       "\\item 2\n",
       "\\item 2\n",
       "\\item 2\n",
       "\\item 2\n",
       "\\item 3\n",
       "\\item 4\n",
       "\\item 2\n",
       "\\item 5\n",
       "\\item 3\n",
       "\\item 3\n",
       "\\item 2\n",
       "\\item 3\n",
       "\\item 2\n",
       "\\item 2\n",
       "\\item 3\n",
       "\\item 4\n",
       "\\item 3\n",
       "\\item 3\n",
       "\\item 4\n",
       "\\item 3\n",
       "\\item 2\n",
       "\\item 3\n",
       "\\item 3\n",
       "\\item 3\n",
       "\\item 2\n",
       "\\item 2\n",
       "\\item 3\n",
       "\\item 4\n",
       "\\item 2\n",
       "\\item 2\n",
       "\\item 4\n",
       "\\item 2\n",
       "\\item 4\n",
       "\\item 4\n",
       "\\item 3\n",
       "\\end{enumerate*}\n"
      ],
      "text/markdown": [
       "1. 2\n",
       "2. 2\n",
       "3. 2\n",
       "4. 2\n",
       "5. 2\n",
       "6. 3\n",
       "7. 4\n",
       "8. 2\n",
       "9. 5\n",
       "10. 3\n",
       "11. 3\n",
       "12. 2\n",
       "13. 3\n",
       "14. 2\n",
       "15. 2\n",
       "16. 3\n",
       "17. 4\n",
       "18. 3\n",
       "19. 3\n",
       "20. 4\n",
       "21. 3\n",
       "22. 2\n",
       "23. 3\n",
       "24. 3\n",
       "25. 3\n",
       "26. 2\n",
       "27. 2\n",
       "28. 3\n",
       "29. 4\n",
       "30. 2\n",
       "31. 2\n",
       "32. 4\n",
       "33. 2\n",
       "34. 4\n",
       "35. 4\n",
       "36. 3\n",
       "\n",
       "\n"
      ],
      "text/plain": [
       " [1] 2 2 2 2 2 3 4 2 5 3 3 2 3 2 2 3 4 3 3 4 3 2 3 3 3 2 2 3 4 2 2 4 2 4 4 3"
      ]
     },
     "metadata": {},
     "output_type": "display_data"
    }
   ],
   "source": [
    "Nmin <- function() {\n",
    "    sum <- 0\n",
    "    Nmin <- 0\n",
    "    while (sum < 1) {\n",
    "        sum <- sum + runif(1)\n",
    "        Nmin = Nmin + 1\n",
    "    }\n",
    "    Nmin <- Nmin * 1\n",
    "}\n",
    "x <- replicate(36,Nmin())\n",
    "x"
   ]
  },
  {
   "cell_type": "markdown",
   "metadata": {},
   "source": [
    "# Exercise 2.2\n",
    "Take a sample of 100 elements from the data in `data.txt`. Using this information, and assuming that the data is normally distributed, compute\n"
   ]
  },
  {
   "cell_type": "code",
   "execution_count": 7,
   "metadata": {},
   "outputs": [],
   "source": [
    "data <- read.table('data.txt', header=TRUE)\n",
    "sample <- sample(data$ht,100)    "
   ]
  },
  {
   "cell_type": "markdown",
   "metadata": {},
   "source": [
    "1. the maximum likelihood estimators for the mean and variance "
   ]
  },
  {
   "cell_type": "code",
   "execution_count": 8,
   "metadata": {},
   "outputs": [
    {
     "data": {
      "text/html": [
       "63.9718070753984"
      ],
      "text/latex": [
       "63.9718070753984"
      ],
      "text/markdown": [
       "63.9718070753984"
      ],
      "text/plain": [
       "[1] 63.97181"
      ]
     },
     "metadata": {},
     "output_type": "display_data"
    },
    {
     "data": {
      "text/html": [
       "41.409403304395"
      ],
      "text/latex": [
       "41.409403304395"
      ],
      "text/markdown": [
       "41.409403304395"
      ],
      "text/plain": [
       "[1] 41.4094"
      ]
     },
     "metadata": {},
     "output_type": "display_data"
    }
   ],
   "source": [
    "mean(sample)\n",
    "var(sample)"
   ]
  },
  {
   "cell_type": "markdown",
   "metadata": {},
   "source": [
    "2. a 95% confidence interval for the mean"
   ]
  },
  {
   "cell_type": "code",
   "execution_count": 9,
   "metadata": {},
   "outputs": [
    {
     "data": {
      "text/html": [
       "55.7552830762325"
      ],
      "text/latex": [
       "55.7552830762325"
      ],
      "text/markdown": [
       "55.7552830762325"
      ],
      "text/plain": [
       "[1] 55.75528"
      ]
     },
     "metadata": {},
     "output_type": "display_data"
    }
   ],
   "source": [
    "mean(sample)-qt(0.975,99)*var(sample)/10"
   ]
  },
  {
   "cell_type": "markdown",
   "metadata": {},
   "source": [
    "3. a 95% confidence interval for the variance"
   ]
  },
  {
   "cell_type": "code",
   "execution_count": 11,
   "metadata": {},
   "outputs": [
    {
     "data": {
      "text/html": [
       "72.1883310745643"
      ],
      "text/latex": [
       "72.1883310745643"
      ],
      "text/markdown": [
       "72.1883310745643"
      ],
      "text/plain": [
       "[1] 72.18833"
      ]
     },
     "metadata": {},
     "output_type": "display_data"
    }
   ],
   "source": [
    "mean(sample)+qt(0.975,99)*var(sample)/10"
   ]
  }
 ],
 "metadata": {
  "kernelspec": {
   "display_name": "R",
   "language": "R",
   "name": "ir"
  },
  "language_info": {
   "codemirror_mode": "r",
   "file_extension": ".r",
   "mimetype": "text/x-r-source",
   "name": "R",
   "pygments_lexer": "r",
   "version": "3.4.2"
  }
 },
 "nbformat": 4,
 "nbformat_minor": 2
}
